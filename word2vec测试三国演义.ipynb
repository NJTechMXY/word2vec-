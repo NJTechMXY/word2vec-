{
 "cells": [
  {
   "cell_type": "code",
   "execution_count": 19,
   "id": "1f195200",
   "metadata": {},
   "outputs": [],
   "source": [
    "from gensim.models import word2vec\n",
    "import jieba\n",
    "import jieba.analyse\n",
    "import logging\n",
    "import os\n",
    "import paddle"
   ]
  },
  {
   "cell_type": "code",
   "execution_count": 21,
   "id": "f27c320f",
   "metadata": {},
   "outputs": [
    {
     "name": "stderr",
     "output_type": "stream",
     "text": [
      "Paddle enabled successfully......\n",
      "DEBUG 2022-11-28 12:11:22,649 _compat.py:47] Paddle enabled successfully......\n"
     ]
    }
   ],
   "source": [
    "paddle.enable_static()\n",
    "jieba.enable_paddle()"
   ]
  },
  {
   "cell_type": "code",
   "execution_count": 42,
   "id": "af7c23af",
   "metadata": {},
   "outputs": [],
   "source": [
    "stop_list=[]\n",
    "for i in open(\"stopwords.txt\",'r',encoding='utf-8').readlines():\n",
    "    stop_list.append(i.strip())"
   ]
  },
  {
   "cell_type": "code",
   "execution_count": 46,
   "id": "c638e979",
   "metadata": {},
   "outputs": [],
   "source": [
    "zong_list=[]\n",
    "fin=open(\"sanguo.txt\",'r',encoding='utf-8')\n",
    "lines=fin.readlines()\n",
    "for line in lines:\n",
    "    line=line.strip()\n",
    "    line=jieba.lcut(line,use_paddle=True)\n",
    "    line_list=[]\n",
    "    for word in line:\n",
    "        if word not in stop_list:\n",
    "            line_list.append(word)\n",
    "    zong_list.append(line_list)"
   ]
  },
  {
   "cell_type": "code",
   "execution_count": 47,
   "id": "8a224350",
   "metadata": {},
   "outputs": [],
   "source": [
    "fout=open(\"sanguo2.txt\",'w',encoding='utf-8')\n",
    "for line in zong_list:\n",
    "    line=' '.join(line)\n",
    "    fout.write(line+'\\n')"
   ]
  },
  {
   "cell_type": "code",
   "execution_count": 95,
   "id": "960098ca",
   "metadata": {},
   "outputs": [
    {
     "name": "stderr",
     "output_type": "stream",
     "text": [
      "INFO 2022-11-28 12:33:10,761 word2vec.py:579] collecting all words and their counts\n",
      "INFO 2022-11-28 12:33:10,762 word2vec.py:562] PROGRESS: at sentence #0, processed 0 words, keeping 0 word types\n",
      "INFO 2022-11-28 12:33:10,866 word2vec.py:585] collected 51015 word types from a corpus of 236554 raw words and 1677 sentences\n",
      "INFO 2022-11-28 12:33:10,867 word2vec.py:634] Creating a fresh vocabulary\n",
      "INFO 2022-11-28 12:33:11,081 utils.py:448] Word2Vec lifecycle event {'msg': 'effective_min_count=1 retains 51015 unique words (100.00% of original 51015, drops 0)', 'datetime': '2022-11-28T12:33:11.081361', 'gensim': '4.2.0', 'python': '3.9.7 (default, Sep 16 2021, 16:59:28) [MSC v.1916 64 bit (AMD64)]', 'platform': 'Windows-10-10.0.19044-SP0', 'event': 'prepare_vocab'}\n",
      "INFO 2022-11-28 12:33:11,082 utils.py:448] Word2Vec lifecycle event {'msg': 'effective_min_count=1 leaves 236554 word corpus (100.00% of original 236554, drops 0)', 'datetime': '2022-11-28T12:33:11.082335', 'gensim': '4.2.0', 'python': '3.9.7 (default, Sep 16 2021, 16:59:28) [MSC v.1916 64 bit (AMD64)]', 'platform': 'Windows-10-10.0.19044-SP0', 'event': 'prepare_vocab'}\n",
      "INFO 2022-11-28 12:33:11,415 word2vec.py:742] deleting the raw counts dictionary of 51015 items\n",
      "INFO 2022-11-28 12:33:11,418 word2vec.py:745] sample=0.001 downsamples 33 most-common words\n",
      "INFO 2022-11-28 12:33:11,419 utils.py:448] Word2Vec lifecycle event {'msg': 'downsampling leaves estimated 224889.6316773105 word corpus (95.1%% of prior 236554)', 'datetime': '2022-11-28T12:33:11.419435', 'gensim': '4.2.0', 'python': '3.9.7 (default, Sep 16 2021, 16:59:28) [MSC v.1916 64 bit (AMD64)]', 'platform': 'Windows-10-10.0.19044-SP0', 'event': 'prepare_vocab'}\n",
      "INFO 2022-11-28 12:33:11,449 word2vec.py:2202] constructing a huffman tree from 51015 words\n",
      "INFO 2022-11-28 12:33:13,332 word2vec.py:2230] built huffman tree with maximum node depth 18\n",
      "INFO 2022-11-28 12:33:13,854 word2vec.py:802] estimated required memory for 51015 words and 300 dimensions: 219364500 bytes\n",
      "INFO 2022-11-28 12:33:13,855 word2vec.py:860] resetting layer weights\n",
      "INFO 2022-11-28 12:33:13,949 utils.py:448] Word2Vec lifecycle event {'update': False, 'trim_rule': 'None', 'datetime': '2022-11-28T12:33:13.949351', 'gensim': '4.2.0', 'python': '3.9.7 (default, Sep 16 2021, 16:59:28) [MSC v.1916 64 bit (AMD64)]', 'platform': 'Windows-10-10.0.19044-SP0', 'event': 'build_vocab'}\n",
      "INFO 2022-11-28 12:33:13,950 utils.py:448] Word2Vec lifecycle event {'msg': 'training model with 3 workers on 51015 vocabulary and 300 features, using sg=0 hs=1 sample=0.001 negative=5 window=2 shrink_windows=True', 'datetime': '2022-11-28T12:33:13.950349', 'gensim': '4.2.0', 'python': '3.9.7 (default, Sep 16 2021, 16:59:28) [MSC v.1916 64 bit (AMD64)]', 'platform': 'Windows-10-10.0.19044-SP0', 'event': 'train'}\n",
      "INFO 2022-11-28 12:33:14,794 word2vec.py:1638] EPOCH 0: training on 236554 raw words (224937 effective words) took 0.8s, 267243 effective words/s\n",
      "INFO 2022-11-28 12:33:15,569 word2vec.py:1638] EPOCH 1: training on 236554 raw words (224909 effective words) took 0.8s, 291093 effective words/s\n",
      "INFO 2022-11-28 12:33:16,513 word2vec.py:1638] EPOCH 2: training on 236554 raw words (225054 effective words) took 0.9s, 239772 effective words/s\n",
      "INFO 2022-11-28 12:33:17,454 word2vec.py:1638] EPOCH 3: training on 236554 raw words (224836 effective words) took 0.9s, 239549 effective words/s\n",
      "INFO 2022-11-28 12:33:18,365 word2vec.py:1638] EPOCH 4: training on 236554 raw words (224785 effective words) took 0.9s, 247711 effective words/s\n",
      "INFO 2022-11-28 12:33:18,367 utils.py:448] Word2Vec lifecycle event {'msg': 'training on 1182770 raw words (1124521 effective words) took 4.4s, 254657 effective words/s', 'datetime': '2022-11-28T12:33:18.366061', 'gensim': '4.2.0', 'python': '3.9.7 (default, Sep 16 2021, 16:59:28) [MSC v.1916 64 bit (AMD64)]', 'platform': 'Windows-10-10.0.19044-SP0', 'event': 'train'}\n",
      "INFO 2022-11-28 12:33:18,367 utils.py:448] Word2Vec lifecycle event {'params': 'Word2Vec<vocab=51015, vector_size=300, alpha=0.025>', 'datetime': '2022-11-28T12:33:18.367058', 'gensim': '4.2.0', 'python': '3.9.7 (default, Sep 16 2021, 16:59:28) [MSC v.1916 64 bit (AMD64)]', 'platform': 'Windows-10-10.0.19044-SP0', 'event': 'created'}\n"
     ]
    }
   ],
   "source": [
    "sentences = word2vec.LineSentence('sanguo2.txt') \n",
    "model = word2vec.Word2Vec(sentences, hs=1,min_count=1,window=2,vector_size=300)"
   ]
  },
  {
   "cell_type": "code",
   "execution_count": 99,
   "id": "a4368caf",
   "metadata": {},
   "outputs": [
    {
     "name": "stdout",
     "output_type": "stream",
     "text": [
      "刘备 0.9684548377990723\n",
      "今日 0.9669127464294434\n",
      "此人 0.9611595869064331\n",
      "不可 0.9596114754676819\n",
      "大王 0.9577339291572571\n",
      "曹丕 0.9566682577133179\n",
      "何不 0.9537354707717896\n",
      "董卓 0.9518051147460938\n",
      "关某 0.9515857696533203\n",
      "何故 0.9487454295158386\n",
      "先生 0.9473826885223389\n",
      "董承 0.9470686912536621\n",
      "皇叔 0.9469245076179504\n",
      "不知 0.9468609690666199\n",
      "主公 0.9452624917030334\n",
      "不必 0.9437888860702515\n",
      "都督 0.941691517829895\n",
      "自有 0.9415966868400574\n",
      "耳。 0.9407359957695007\n",
      "不听 0.9395280480384827\n",
      "军中 0.9392513632774353\n",
      "昔日 0.9390420317649841\n",
      "来日 0.9385430812835693\n",
      "丞相 0.9359579086303711\n",
      "江东 0.934879720211029\n",
      "此事 0.9348337650299072\n",
      "朝廷 0.9344937205314636\n",
      "天子 0.9330193400382996\n",
      "天下 0.9311918616294861\n",
      "至此 0.9296759963035583\n",
      "军师 0.928937554359436\n",
      "陛下 0.9285921454429626\n",
      "之后 0.9283469915390015\n",
      "正是 0.927858293056488\n",
      "袁绍 0.9262205362319946\n",
      "叔父 0.9250580668449402\n",
      "将军 0.9240342378616333\n",
      "何？ 0.9235159158706665\n",
      "太傅 0.9223737716674805\n",
      "四人 0.9221597909927368\n",
      "。今 0.9215874075889587\n",
      "在此 0.9183374047279358\n",
      "当时 0.9181479811668396\n",
      "荀彧 0.9175776243209839\n",
      "大臣 0.9170445203781128\n"
     ]
    }
   ],
   "source": [
    "req_count = 50\n",
    "for key in model.wv.similar_by_word('诸葛亮', topn =100):\n",
    "    if len(key[0]) == 2 :\n",
    "        req_count -= 1\n",
    "        print(key[0], key[1])\n",
    "        if req_count == 0:\n",
    "            break;"
   ]
  },
  {
   "cell_type": "code",
   "execution_count": 114,
   "id": "8536bdd6",
   "metadata": {},
   "outputs": [
    {
     "name": "stdout",
     "output_type": "stream",
     "text": [
      "0.9632355\n"
     ]
    }
   ],
   "source": [
    "print( model.wv.similarity('玄德','孔明'))"
   ]
  },
  {
   "cell_type": "code",
   "execution_count": 108,
   "id": "f958090f",
   "metadata": {},
   "outputs": [
    {
     "name": "stdout",
     "output_type": "stream",
     "text": [
      "0.67794883\n"
     ]
    }
   ],
   "source": [
    "print( model.wv.similarity('曹操','孙皓'))"
   ]
  }
 ],
 "metadata": {
  "kernelspec": {
   "display_name": "Python 3 (ipykernel)",
   "language": "python",
   "name": "python3"
  },
  "language_info": {
   "codemirror_mode": {
    "name": "ipython",
    "version": 3
   },
   "file_extension": ".py",
   "mimetype": "text/x-python",
   "name": "python",
   "nbconvert_exporter": "python",
   "pygments_lexer": "ipython3",
   "version": "3.9.7"
  }
 },
 "nbformat": 4,
 "nbformat_minor": 5
}
